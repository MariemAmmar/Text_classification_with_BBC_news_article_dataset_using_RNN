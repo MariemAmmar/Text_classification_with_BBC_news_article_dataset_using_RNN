{
 "cells": [
  {
   "cell_type": "markdown",
   "metadata": {
    "id": "7a6QYmcRgaY8"
   },
   "source": [
    "# **Text classification with BBC news article dataset using RNN**"
   ]
  },
  {
   "cell_type": "markdown",
   "metadata": {
    "id": "JueULvWJgJY7"
   },
   "source": [
    "### **Importing Required Libraries & Loading Data**"
   ]
  },
  {
   "cell_type": "code",
   "execution_count": 1,
   "metadata": {
    "id": "IMWF9qpcf4ze"
   },
   "outputs": [],
   "source": [
    "import csv\n",
    "import tensorflow as tf\n",
    "import numpy as np\n",
    "from tensorflow.keras.preprocessing.text import Tokenizer\n",
    "from tensorflow.keras.preprocessing.sequence import pad_sequences\n",
    "\n"
   ]
  },
  {
   "cell_type": "markdown",
   "metadata": {
    "id": "lCJT7Mihilym"
   },
   "source": [
    "### **Data Cleaning, Preprocessing and Preparation**"
   ]
  },
  {
   "cell_type": "code",
   "execution_count": 2,
   "metadata": {
    "id": "IaQRuNoIhr4M"
   },
   "outputs": [],
   "source": [
    "#initialize parameters\n",
    "vocab_size = 1000\n",
    "embedding_dim = 16\n",
    "max_length = 120\n",
    "trunc_type='post'\n",
    "padding_type='post'\n",
    "oov_tok = \"<OOV>\"\n",
    "training_portion = .8"
   ]
  },
  {
   "cell_type": "code",
   "execution_count": 3,
   "metadata": {
    "colab": {
     "base_uri": "https://localhost:8080/"
    },
    "id": "PrbRX6Xejtng",
    "outputId": "ddf726de-5870-4aad-da76-02de398339b7"
   },
   "outputs": [
    {
     "name": "stdout",
     "output_type": "stream",
     "text": [
      "['that', 'hers', \"don't\", 'doesn', 'against', 'll', 'themselves', 'to', 'have', 'now', 'more', 'couldn', 'own', 'itself', 'don', \"she's\", \"isn't\", \"shan't\", 'having', 'y', \"aren't\", 'mightn', 'nor', 'we', 'my', 'these', \"mightn't\", 'other', 's', 'how', 'shouldn', 'no', 'mustn', 'an', 'such', \"shouldn't\", 'them', 'shan', 'd', 'before', 'over', 'hasn', 're', 'will', 'the', \"haven't\", 'between', 'are', 'it', 'should', 'yourselves', 'once', 'out', 'your', 'won', 'for', 'been', 'most', 'be', \"you're\", 'needn', 'above', 'not', 've', 'because', 'again', 'but', 'during', 'both', \"you'll\", 'those', 'after', 'herself', 'were', 'into', 'up', 'his', 'in', 'doing', \"needn't\", 'their', 'at', 'weren', 'about', 'all', 'where', 'she', 'than', 'wasn', 'him', 'further', 'just', 'and', 'her', 'which', 'wouldn', 'who', 'when', 'yourself', 'is', 'did', 'under', 'this', 'do', 'didn', \"wasn't\", \"doesn't\", 'with', 'you', 'if', 'some', \"hasn't\", 'same', 'hadn', 'then', 'down', \"you'd\", 'very', 'me', 'being', 'there', 'our', 'ours', 'of', 'ourselves', 'or', 'yours', 'had', \"that'll\", 'was', 'i', \"you've\", 'while', 'each', 'am', 'ma', \"mustn't\", 'myself', 'any', 'whom', 'on', 'through', \"should've\", 'haven', \"wouldn't\", \"hadn't\", 'why', 'only', 'so', \"couldn't\", \"it's\", 'he', 'can', \"won't\", 'here', 'does', 'by', 'off', 'few', 't', \"didn't\", 'm', 'they', \"weren't\", 'has', 'himself', 'its', 'aren', 'too', 'ain', 'what', 'below', 'until', 'theirs', 'o', 'as', 'a', 'from', 'isn']\n"
     ]
    },
    {
     "name": "stderr",
     "output_type": "stream",
     "text": [
      "[nltk_data] Downloading package stopwords to /root/nltk_data...\n",
      "[nltk_data]   Package stopwords is already up-to-date!\n"
     ]
    }
   ],
   "source": [
    "\n",
    "sentences = []\n",
    "labels = []\n",
    "import nltk\n",
    "from nltk.corpus import stopwords\n",
    "\n",
    "nltk.download('stopwords')\n",
    "stop_words = set(stopwords.words('english'))\n",
    "stop_words=list(stop_words)\n",
    "\n",
    "print(stop_words)"
   ]
  },
  {
   "cell_type": "code",
   "execution_count": 4,
   "metadata": {
    "colab": {
     "base_uri": "https://localhost:8080/"
    },
    "id": "ynmmrmpOkiqy",
    "outputId": "160f92de-aee9-44bf-d5df-1a2b16a91942"
   },
   "outputs": [
    {
     "name": "stdout",
     "output_type": "stream",
     "text": [
      "2225\n",
      "2225\n",
      "tv future hands viewers home theatre systems  plasma high-definition tvs  digital video recorders moving living room  way people watch tv radically different five years  time.  according expert panel gathered annual consumer electronics show las vegas discuss new technologies impact one favourite pastimes. us leading trend  programmes content delivered viewers via home networks  cable  satellite  telecoms companies  broadband service providers front rooms portable devices.  one talked-about technologies ces digital personal video recorders (dvr pvr). set-top boxes  like us tivo uk sky+ system  allow people record  store  play  pause forward wind tv programmes want.  essentially  technology allows much personalised tv. also built-in high-definition tv sets  big business japan us  slower take europe lack high-definition programming. people forward wind adverts  also forget abiding network channel schedules  putting together a-la-carte entertainment. us networks cable satellite companies worried means terms advertising revenues well  brand identity  viewer loyalty channels. although us leads technology moment  also concern raised europe  particularly growing uptake services like sky+.  happens today  see nine months years  time uk   adam hume  bbc broadcast futurologist told bbc news website. likes bbc  issues lost advertising revenue yet. pressing issue moment commercial uk broadcasters  brand loyalty important everyone.  talking content brands rather network brands   said tim hanlon  brand communications firm starcom mediavest.  reality broadband connections  anybody producer content.  added:  challenge is hard promote programme much choice.   means  said stacey jolna  senior vice president tv guide tv group  way people find content want watch simplified tv viewers. means networks  us terms  channels could take leaf google book search engine future  instead scheduler help people find want watch. kind channel model might work younger ipod generation used taking control gadgets play them. might suit everyone  panel recognised. older generations comfortable familiar schedules channel brands know getting. perhaps want much choice put hands  mr hanlon suggested.  end  kids diapers pushing buttons already - everything possible available   said mr hanlon.  ultimately  consumer tell market want.   50 000 new gadgets technologies showcased ces  many enhancing tv-watching experience. high-definition tv sets everywhere many new models lcd (liquid crystal display) tvs launched dvr capability built  instead external boxes. one example launched show humax 26-inch lcd tv 80-hour tivo dvr dvd recorder. one us biggest satellite tv companies  directtv  even launched branded dvr show 100-hours recording capability  instant replay  search function. set pause rewind tv 90 hours. microsoft chief bill gates announced pre-show keynote speech partnership tivo  called tivotogo  means people play recorded programmes windows pcs mobile devices. reflect increasing trend freeing multimedia people watch want  want.\n"
     ]
    }
   ],
   "source": [
    "#Examine data\n",
    "\n",
    "# Open the CSV file and process each row\n",
    "with open(\"/content/bbc-text.csv\", 'r') as csvfile:\n",
    "    reader = csv.reader(csvfile, delimiter=',')\n",
    "    next(reader) # skip header row\n",
    "    for row in reader:\n",
    "        # Check if row has at least two columns\n",
    "        if len(row) >= 2:\n",
    "            labels.append(row[0])\n",
    "            sentence = row[1]\n",
    "            for word in stop_words:\n",
    "                token = \" \" + word + \" \"\n",
    "                sentence = sentence.replace(token, \" \")\n",
    "            sentences.append(sentence)\n",
    "print(len(labels))\n",
    "print(len(sentences))\n",
    "print(sentences[0])\n",
    "# Expected Output\n",
    "# 2225"
   ]
  },
  {
   "cell_type": "code",
   "execution_count": 5,
   "metadata": {
    "colab": {
     "base_uri": "https://localhost:8080/"
    },
    "id": "Ur824haKnY0C",
    "outputId": "f6782139-784f-4572-c2bf-1beb8adf946b"
   },
   "outputs": [
    {
     "name": "stdout",
     "output_type": "stream",
     "text": [
      "1780\n",
      "1780\n",
      "1780\n",
      "445\n",
      "445\n"
     ]
    }
   ],
   "source": [
    "# split data into training set and validationd set\n",
    "train_size = int(len(sentences) * training_portion)\n",
    "train_sentences = sentences[:train_size]\n",
    "train_labels = labels[:train_size]\n",
    "validation_sentences = sentences[train_size:]\n",
    "validation_labels = labels[train_size:]\n",
    "print(train_size)\n",
    "print(len(train_sentences))\n",
    "print(len(train_labels))\n",
    "print(len(validation_sentences))\n",
    "print(len(validation_labels))\n",
    "# Expected output (if training_portion=.8)\n",
    "# 1780\n",
    "# 1780\n",
    "# 1780\n",
    "# 445\n",
    "# 445\n"
   ]
  },
  {
   "cell_type": "code",
   "execution_count": 6,
   "metadata": {
    "colab": {
     "base_uri": "https://localhost:8080/"
    },
    "id": "nri2sqCRuAhD",
    "outputId": "a3e551f8-2a78-430e-84b3-c43dff58b6fe"
   },
   "outputs": [
    {
     "name": "stdout",
     "output_type": "stream",
     "text": [
      "426\n",
      "120\n",
      "192\n",
      "120\n",
      "186\n",
      "120\n"
     ]
    }
   ],
   "source": [
    "#Tokenize training set\n",
    "tokenizer = Tokenizer(num_words = vocab_size, oov_token=oov_tok)\n",
    "tokenizer.fit_on_texts(train_sentences)\n",
    "word_index = tokenizer.word_index\n",
    "train_sequences = tokenizer.texts_to_sequences(train_sentences) # Turn tokens into sequence\n",
    "train_padded = pad_sequences(train_sequences, padding=padding_type, maxlen=max_length) #Pad training sequences\n",
    "print(len(train_sequences[0]))\n",
    "print(len(train_padded[0]))\n",
    "print(len(train_sequences[1]))\n",
    "print(len(train_padded[1]))\n",
    "print(len(train_sequences[10]))\n",
    "print(len(train_padded[10]))\n",
    "# Expected Ouput\n",
    "# 449\n",
    "# 120\n",
    "# 200\n",
    "# 120\n",
    "# 192\n",
    "# 120\n",
    " \n"
   ]
  },
  {
   "cell_type": "code",
   "execution_count": 7,
   "metadata": {
    "colab": {
     "base_uri": "https://localhost:8080/"
    },
    "id": "-7FkSKVwuDss",
    "outputId": "a436afa5-e887-4f3e-94d4-a0954c637e6d"
   },
   "outputs": [
    {
     "name": "stdout",
     "output_type": "stream",
     "text": [
      "445\n",
      "(445, 120)\n"
     ]
    }
   ],
   "source": [
    "validation_sequences = tokenizer.texts_to_sequences(validation_sentences) #tokenize validation sequences\n",
    "validation_padded = pad_sequences(validation_sequences, padding=padding_type, maxlen=max_length) #Pad Validation sequences\n",
    "print(len(validation_sequences))\n",
    "print(validation_padded.shape)\n",
    "# 445\n",
    "# (445, 120)\n",
    "\n"
   ]
  },
  {
   "cell_type": "code",
   "execution_count": 8,
   "metadata": {
    "colab": {
     "base_uri": "https://localhost:8080/"
    },
    "id": "ewZUB3E6uOFC",
    "outputId": "4d3622d1-a540-4097-b84a-2cc6ee377be8"
   },
   "outputs": [
    {
     "name": "stdout",
     "output_type": "stream",
     "text": [
      "[4]\n",
      "[2]\n",
      "[1]\n",
      "(1780, 1)\n",
      "[5]\n",
      "[4]\n",
      "[3]\n",
      "(445, 1)\n"
     ]
    }
   ],
   "source": [
    "label_tokenizer = Tokenizer()\n",
    "label_tokenizer.fit_on_texts(labels) #Tokenize Labels\n",
    "training_label_seq = np.array(label_tokenizer.texts_to_sequences(train_labels)) #Turn labels into numpy arrays\n",
    "validation_label_seq = np.array(label_tokenizer.texts_to_sequences(validation_labels))\n",
    "print(training_label_seq[0])\n",
    "print(training_label_seq[1])\n",
    "print(training_label_seq[2])\n",
    "print(training_label_seq.shape)\n",
    "print(validation_label_seq[0])\n",
    "print(validation_label_seq[1])\n",
    "print(validation_label_seq[2])\n",
    "print(validation_label_seq.shape)\n",
    "# Expected output\n",
    "# [4]\n",
    "# [2]\n",
    "# [1]\n",
    "# (1780, 1)\n",
    "# [5]\n",
    "# [4]\n",
    "# [3]\n",
    "# (445, 1)\n"
   ]
  },
  {
   "cell_type": "markdown",
   "metadata": {
    "id": "0zHjBnCU10n4"
   },
   "source": [
    "## **Building and Training RNN Model**"
   ]
  },
  {
   "cell_type": "code",
   "execution_count": 11,
   "metadata": {
    "colab": {
     "base_uri": "https://localhost:8080/"
    },
    "id": "HYwF3ZtVuLaj",
    "outputId": "9524d77c-b643-454c-dee5-8ba04ce82cdc"
   },
   "outputs": [
    {
     "name": "stdout",
     "output_type": "stream",
     "text": [
      "Model: \"sequential_1\"\n",
      "_________________________________________________________________\n",
      " Layer (type)                Output Shape              Param #   \n",
      "=================================================================\n",
      " embedding_1 (Embedding)     (None, 120, 16)           16000     \n",
      "                                                                 \n",
      " global_average_pooling1d_1   (None, 16)               0         \n",
      " (GlobalAveragePooling1D)                                        \n",
      "                                                                 \n",
      " dense_2 (Dense)             (None, 24)                408       \n",
      "                                                                 \n",
      " dense_3 (Dense)             (None, 6)                 150       \n",
      "                                                                 \n",
      "=================================================================\n",
      "Total params: 16,558\n",
      "Trainable params: 16,558\n",
      "Non-trainable params: 0\n",
      "_________________________________________________________________\n"
     ]
    }
   ],
   "source": [
    "model = tf.keras.Sequential([\n",
    "    tf.keras.layers.Embedding(vocab_size, embedding_dim, input_length=max_length),\n",
    "    tf.keras.layers.GlobalAveragePooling1D(),\n",
    "    tf.keras.layers.Dense(24, activation='relu'),\n",
    "    tf.keras.layers.Dense(6, activation='softmax')])\n",
    "model.compile(loss='sparse_categorical_crossentropy',optimizer='adam',metrics=['accuracy'])\n",
    "model.summary()"
   ]
  },
  {
   "cell_type": "code",
   "execution_count": 13,
   "metadata": {
    "colab": {
     "base_uri": "https://localhost:8080/"
    },
    "id": "nM_4H1xKuQqZ",
    "outputId": "aba31606-c5a5-4610-fda3-3e597233db85"
   },
   "outputs": [
    {
     "name": "stdout",
     "output_type": "stream",
     "text": [
      "Epoch 1/30\n",
      "56/56 - 11s - loss: 1.7598 - accuracy: 0.2618 - val_loss: 1.7163 - val_accuracy: 0.3798 - 11s/epoch - 195ms/step\n",
      "Epoch 2/30\n",
      "56/56 - 3s - loss: 1.6679 - accuracy: 0.4719 - val_loss: 1.6105 - val_accuracy: 0.4517 - 3s/epoch - 54ms/step\n",
      "Epoch 3/30\n",
      "56/56 - 2s - loss: 1.5603 - accuracy: 0.5011 - val_loss: 1.5024 - val_accuracy: 0.5101 - 2s/epoch - 36ms/step\n",
      "Epoch 4/30\n",
      "56/56 - 1s - loss: 1.4350 - accuracy: 0.5719 - val_loss: 1.3652 - val_accuracy: 0.5775 - 1s/epoch - 26ms/step\n",
      "Epoch 5/30\n",
      "56/56 - 1s - loss: 1.2577 - accuracy: 0.5938 - val_loss: 1.1771 - val_accuracy: 0.6202 - 993ms/epoch - 18ms/step\n",
      "Epoch 6/30\n",
      "56/56 - 2s - loss: 1.0588 - accuracy: 0.6466 - val_loss: 0.9962 - val_accuracy: 0.7056 - 2s/epoch - 34ms/step\n",
      "Epoch 7/30\n",
      "56/56 - 1s - loss: 0.8845 - accuracy: 0.7635 - val_loss: 0.8546 - val_accuracy: 0.8202 - 612ms/epoch - 11ms/step\n",
      "Epoch 8/30\n",
      "56/56 - 1s - loss: 0.7392 - accuracy: 0.8669 - val_loss: 0.7245 - val_accuracy: 0.8674 - 720ms/epoch - 13ms/step\n",
      "Epoch 9/30\n",
      "56/56 - 1s - loss: 0.6162 - accuracy: 0.9000 - val_loss: 0.6200 - val_accuracy: 0.8966 - 510ms/epoch - 9ms/step\n",
      "Epoch 10/30\n",
      "56/56 - 1s - loss: 0.5127 - accuracy: 0.9185 - val_loss: 0.5307 - val_accuracy: 0.9011 - 595ms/epoch - 11ms/step\n",
      "Epoch 11/30\n",
      "56/56 - 1s - loss: 0.4283 - accuracy: 0.9354 - val_loss: 0.4645 - val_accuracy: 0.9056 - 654ms/epoch - 12ms/step\n",
      "Epoch 12/30\n",
      "56/56 - 1s - loss: 0.3596 - accuracy: 0.9404 - val_loss: 0.4140 - val_accuracy: 0.9146 - 543ms/epoch - 10ms/step\n",
      "Epoch 13/30\n",
      "56/56 - 1s - loss: 0.3059 - accuracy: 0.9472 - val_loss: 0.3634 - val_accuracy: 0.9146 - 555ms/epoch - 10ms/step\n",
      "Epoch 14/30\n",
      "56/56 - 0s - loss: 0.2625 - accuracy: 0.9500 - val_loss: 0.3307 - val_accuracy: 0.9146 - 355ms/epoch - 6ms/step\n",
      "Epoch 15/30\n",
      "56/56 - 0s - loss: 0.2283 - accuracy: 0.9601 - val_loss: 0.3058 - val_accuracy: 0.9191 - 361ms/epoch - 6ms/step\n",
      "Epoch 16/30\n",
      "56/56 - 0s - loss: 0.2003 - accuracy: 0.9674 - val_loss: 0.2842 - val_accuracy: 0.9236 - 405ms/epoch - 7ms/step\n",
      "Epoch 17/30\n",
      "56/56 - 0s - loss: 0.1775 - accuracy: 0.9685 - val_loss: 0.2658 - val_accuracy: 0.9236 - 395ms/epoch - 7ms/step\n",
      "Epoch 18/30\n",
      "56/56 - 0s - loss: 0.1576 - accuracy: 0.9747 - val_loss: 0.2544 - val_accuracy: 0.9258 - 370ms/epoch - 7ms/step\n",
      "Epoch 19/30\n",
      "56/56 - 1s - loss: 0.1426 - accuracy: 0.9742 - val_loss: 0.2350 - val_accuracy: 0.9303 - 521ms/epoch - 9ms/step\n",
      "Epoch 20/30\n",
      "56/56 - 1s - loss: 0.1265 - accuracy: 0.9809 - val_loss: 0.2276 - val_accuracy: 0.9326 - 513ms/epoch - 9ms/step\n",
      "Epoch 21/30\n",
      "56/56 - 1s - loss: 0.1144 - accuracy: 0.9820 - val_loss: 0.2185 - val_accuracy: 0.9348 - 531ms/epoch - 9ms/step\n",
      "Epoch 22/30\n",
      "56/56 - 0s - loss: 0.1034 - accuracy: 0.9815 - val_loss: 0.2136 - val_accuracy: 0.9371 - 365ms/epoch - 7ms/step\n",
      "Epoch 23/30\n",
      "56/56 - 0s - loss: 0.0936 - accuracy: 0.9843 - val_loss: 0.2025 - val_accuracy: 0.9326 - 381ms/epoch - 7ms/step\n",
      "Epoch 24/30\n",
      "56/56 - 1s - loss: 0.0855 - accuracy: 0.9865 - val_loss: 0.2002 - val_accuracy: 0.9371 - 682ms/epoch - 12ms/step\n",
      "Epoch 25/30\n",
      "56/56 - 0s - loss: 0.0778 - accuracy: 0.9876 - val_loss: 0.1957 - val_accuracy: 0.9393 - 361ms/epoch - 6ms/step\n",
      "Epoch 26/30\n",
      "56/56 - 0s - loss: 0.0703 - accuracy: 0.9893 - val_loss: 0.1919 - val_accuracy: 0.9393 - 391ms/epoch - 7ms/step\n",
      "Epoch 27/30\n",
      "56/56 - 1s - loss: 0.0644 - accuracy: 0.9904 - val_loss: 0.1870 - val_accuracy: 0.9393 - 658ms/epoch - 12ms/step\n",
      "Epoch 28/30\n",
      "56/56 - 1s - loss: 0.0593 - accuracy: 0.9938 - val_loss: 0.1856 - val_accuracy: 0.9393 - 822ms/epoch - 15ms/step\n",
      "Epoch 29/30\n",
      "56/56 - 1s - loss: 0.0539 - accuracy: 0.9944 - val_loss: 0.1836 - val_accuracy: 0.9416 - 552ms/epoch - 10ms/step\n",
      "Epoch 30/30\n",
      "56/56 - 1s - loss: 0.0494 - accuracy: 0.9955 - val_loss: 0.1860 - val_accuracy: 0.9371 - 617ms/epoch - 11ms/step\n"
     ]
    }
   ],
   "source": [
    "num_epochs = 30\n",
    "history = model.fit(train_padded, training_label_seq, epochs=num_epochs, validation_data=(validation_padded, validation_label_seq), verbose=2)"
   ]
  },
  {
   "cell_type": "markdown",
   "metadata": {
    "id": "5RG9Ge4y39T3"
   },
   "source": [
    "## **Plotting Model Training History**"
   ]
  },
  {
   "cell_type": "code",
   "execution_count": 15,
   "metadata": {
    "colab": {
     "base_uri": "https://localhost:8080/",
     "height": 541
    },
    "id": "KKwp-wqd3HoF",
    "outputId": "f68e0627-0413-40ce-9fa1-b8ee7e609832"
   },
   "outputs": [
    {
     "data": {
      "image/png": "[encoded data removed]",
      "text/plain": [
       "<Figure size 432x288 with 1 Axes>"
      ]
     },
     "metadata": {
      "needs_background": "light"
     },
     "output_type": "display_data"
    },
    {
     "data": {
      "image/png": "[encoded data removed]",
      "text/plain": [
       "<Figure size 432x288 with 1 Axes>"
      ]
     },
     "metadata": {
      "needs_background": "light"
     },
     "output_type": "display_data"
    }
   ],
   "source": [
    "import matplotlib.pyplot as plt\n",
    "def plot_graphs(history, string):\n",
    "  plt.plot(history.history[string])\n",
    "  plt.plot(history.history['val_'+string])\n",
    "  plt.xlabel(\"Epochs\")\n",
    "  plt.ylabel(string)\n",
    "  plt.legend([string, 'val_'+string])\n",
    "  plt.show()\n",
    "plot_graphs(history, \"accuracy\")\n",
    "plot_graphs(history, \"loss\")\n",
    "\n",
    "#the 2 curves in different colours are close to each other, in the same direction meaning there is no overfitting meaning model is good it propagates o well\n"
   ]
  },
  {
   "cell_type": "code",
   "execution_count": 25,
   "metadata": {
    "colab": {
     "base_uri": "https://localhost:8080/"
    },
    "id": "kzBUZXJO8HIO",
    "outputId": "5237005c-5863-42d1-a8ac-61e8608a8eb0"
   },
   "outputs": [
    {
     "name": "stdout",
     "output_type": "stream",
     "text": [
      "1/1 [==============================] - 0s 29ms/step\n",
      "\n",
      "sport\n"
     ]
    }
   ],
   "source": [
    "# Here's how you can test the trained model with a new text:\n",
    "# New text to classify\n",
    "new_text = [\"Novak Djokovic has won his third consecutive Grand Slam title, beating Rafael Nadal in the French Open final.\"]\n",
    "\n",
    "# Tokenize and pad the new text\n",
    "new_sequences = tokenizer.texts_to_sequences(new_text)\n",
    "new_padded = pad_sequences(new_sequences, padding=padding_type, maxlen=max_length)\n",
    "\n",
    "# Make predictions\n",
    "predictions = model.predict(new_padded)\n",
    "\n",
    "# Get the predicted label\n",
    "predicted_label = label_tokenizer.sequences_to_texts(predictions)[0]\n",
    "\n",
    "# Print the predicted label\n",
    "print(predicted_label)\n",
    "\n",
    "#This code tokenizes and pads a new text, uses the trained model to predict its label, and \n",
    "#then prints the predicted label. Note that new_text is a list containing the new text as a string, \n",
    "#and the code assumes that the new text has the same maximum length as the training data (i.e., max_length=120).\n",
    "# Define a dictionary to map integer labels to their corresponding text labels\n",
    "label_map = {v: k for k, v in label_tokenizer.word_index.items()}\n",
    "\n",
    "# Use the dictionary to convert the predicted label index back to text\n",
    "predicted_label_index = np.argmax(predictions[0])\n",
    "predicted_label = label_map[predicted_label_index]\n",
    "\n",
    "print(predicted_label)\n",
    "\n",
    "#In this code, label_map is a dictionary \n",
    "#that maps the integer label indices back to their original text labels. \n",
    "#predicted_label_index is the index of the predicted label, and predicted_label \n",
    "#is the corresponding text label obtained by looking up the dictionary.\n",
    "\n",
    "\n",
    "\n",
    "\n"
   ]
  },
  {
   "cell_type": "code",
   "execution_count": null,
   "metadata": {
    "id": "1TnEG9ps8MQ7"
   },
   "outputs": [],
   "source": []
  }
 ],
 "metadata": {
  "accelerator": "GPU",
  "colab": {
   "provenance": []
  },
  "gpuClass": "standard",
  "kernelspec": {
   "display_name": "Python 3 (ipykernel)",
   "language": "python",
   "name": "python3"
  },
  "language_info": {
   "codemirror_mode": {
    "name": "ipython",
    "version": 3
   },
   "file_extension": ".py",
   "mimetype": "text/x-python",
   "name": "python",
   "nbconvert_exporter": "python",
   "pygments_lexer": "ipython3",
   "version": "3.8.0"
  }
 },
 "nbformat": 4,
 "nbformat_minor": 1
}
